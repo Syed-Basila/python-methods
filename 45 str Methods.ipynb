{
 "cells": [
  {
   "cell_type": "code",
   "execution_count": 1,
   "id": "0b7fca1e",
   "metadata": {},
   "outputs": [
    {
     "name": "stdout",
     "output_type": "stream",
     "text": [
      "Hello how are you\n"
     ]
    }
   ],
   "source": [
    "#1.capitalize() = Converts the first character to upper case\n",
    "var=\"hello how are you\"\n",
    "print(var.capitalize())"
   ]
  },
  {
   "cell_type": "code",
   "execution_count": 2,
   "id": "40487593",
   "metadata": {},
   "outputs": [
    {
     "name": "stdout",
     "output_type": "stream",
     "text": [
      "hello how are you\n"
     ]
    }
   ],
   "source": [
    "#2.casefold() = Converts string into lower case\n",
    "var=\"HEllo HOw Are you\"\n",
    "print(var.casefold())"
   ]
  },
  {
   "cell_type": "code",
   "execution_count": 4,
   "id": "191a7afc",
   "metadata": {},
   "outputs": [
    {
     "name": "stdout",
     "output_type": "stream",
     "text": [
      "      hello how are you       \n"
     ]
    }
   ],
   "source": [
    "#3.center() = Returns a centered string\n",
    "var=\"hello how are you\"\n",
    "print(var.center(50))"
   ]
  },
  {
   "cell_type": "code",
   "execution_count": 6,
   "id": "4e43898b",
   "metadata": {},
   "outputs": [
    {
     "name": "stdout",
     "output_type": "stream",
     "text": [
      "5\n",
      "3\n"
     ]
    }
   ],
   "source": [
    "#4.count() = Returns the number of times a specified value occurs in a string\n",
    "var=\"how hello how are how you\"\n",
    "print(var.count('o'))\n",
    "print(var.count('how'))"
   ]
  },
  {
   "cell_type": "code",
   "execution_count": 10,
   "id": "c4c71367",
   "metadata": {},
   "outputs": [
    {
     "name": "stdout",
     "output_type": "stream",
     "text": [
      "b'hello how are you'\n",
      "<class 'bytes'>\n",
      "hello how are you\n"
     ]
    }
   ],
   "source": [
    "#5.encode() = Returns an encoded version of the string\n",
    "var=\"hello how are you\"\n",
    "enc=var.encode()\n",
    "print(enc)\n",
    "print(type(enc))\n",
    "dec=enc.decode()\n",
    "print(dec)"
   ]
  },
  {
   "cell_type": "code",
   "execution_count": 12,
   "id": "4b3e6181",
   "metadata": {},
   "outputs": [
    {
     "name": "stdout",
     "output_type": "stream",
     "text": [
      "False\n"
     ]
    }
   ],
   "source": [
    "#6.endswith() = Returns true if the string ends with the specified value\n",
    "var=\"hello how are you.\"\n",
    "print(var.endswith(' '))"
   ]
  },
  {
   "cell_type": "code",
   "execution_count": 14,
   "id": "0d5af2f5",
   "metadata": {},
   "outputs": [
    {
     "name": "stdout",
     "output_type": "stream",
     "text": [
      "hello          how            are you\n"
     ]
    }
   ],
   "source": [
    "#7.expandtabs() = Sets the tab size of the string\n",
    "var=\"hello\\thow\\tare you\"\n",
    "print(var.expandtabs(15))"
   ]
  },
  {
   "cell_type": "code",
   "execution_count": 16,
   "id": "8f3c03ca",
   "metadata": {},
   "outputs": [
    {
     "name": "stdout",
     "output_type": "stream",
     "text": [
      "6\n",
      "1\n"
     ]
    }
   ],
   "source": [
    "#8.find() = Searches the string for a specified value and returns the position of where it was found\n",
    "var=\"hello how are you\"\n",
    "print(var.find('how'))\n",
    "print(var.find('e'))"
   ]
  },
  {
   "cell_type": "code",
   "execution_count": 28,
   "id": "988c2f90",
   "metadata": {},
   "outputs": [
    {
     "name": "stdout",
     "output_type": "stream",
     "text": [
      "my name is elon !\n",
      "my name is 5 !\n",
      "my name is 7 !\n",
      "you value is 6.000 !\n",
      "hello my age is two my sis age is 3 my bro age is4\n",
      "hello my age is 3 my sis age is 2 my bro age is4\n"
     ]
    }
   ],
   "source": [
    "#9.format() = Formats specified values in a string\n",
    "var=\"hello how are you\"\n",
    "#a=input(\"enter your name\")\n",
    "print(f\"my name is {a} !\")\n",
    "print(f\"my name is {2+3} !\")\n",
    "print(f\"my name is {(2*3)+1} !\")\n",
    "#v=int(input())\n",
    "print(f\"you value is {v:.3f} !\")\n",
    "print(\"hello my age is {} my sis age is {} my bro age is{}\".format(\"two\",3,4))\n",
    "print(\"hello my age is {1} my sis age is {0} my bro age is{2}\".format(2,3,4))"
   ]
  },
  {
   "cell_type": "code",
   "execution_count": 37,
   "id": "778ba06f",
   "metadata": {},
   "outputs": [
    {
     "name": "stdout",
     "output_type": "stream",
     "text": [
      "{'name': 'obama', 'age': 50}\n",
      "my name is obama and my age is 50 !\n"
     ]
    }
   ],
   "source": [
    "#10.format_map() = Formats specified values in a string dict={key:value}\n",
    "dict1={\"name\":\"obama\",\n",
    "      \"age\":50}\n",
    "print(dict1)\n",
    "print(\"my name is {name} and my age is {age} !\".format_map(dict1))"
   ]
  },
  {
   "cell_type": "code",
   "execution_count": 38,
   "id": "bae9a309",
   "metadata": {},
   "outputs": [
    {
     "name": "stdout",
     "output_type": "stream",
     "text": [
      "6\n",
      "1\n"
     ]
    }
   ],
   "source": [
    "#11.index() = Searches the string for a specified value and returns the position of where it was found\n",
    "var=\"hello how are you\"\n",
    "print(var.index('how'))\n",
    "print(var.index('e'))"
   ]
  },
  {
   "cell_type": "code",
   "execution_count": 40,
   "id": "fce60ad9",
   "metadata": {},
   "outputs": [
    {
     "name": "stdout",
     "output_type": "stream",
     "text": [
      "True\n"
     ]
    }
   ],
   "source": [
    "#12.isalnum() = Returns True if all characters in the string are alphanumeric\n",
    "var=\"hellohowareyou567\"\n",
    "print(var.isalnum())\n"
   ]
  },
  {
   "cell_type": "code",
   "execution_count": 42,
   "id": "284f613a",
   "metadata": {},
   "outputs": [
    {
     "name": "stdout",
     "output_type": "stream",
     "text": [
      "True\n"
     ]
    }
   ],
   "source": [
    "#13.isalpha() = Returns True if all characters in the string are in the alphabet\n",
    "var=\"hellohowareyou\"\n",
    "print(var.isalpha())\n"
   ]
  },
  {
   "cell_type": "code",
   "execution_count": 46,
   "id": "808a38f1",
   "metadata": {},
   "outputs": [
    {
     "name": "stdout",
     "output_type": "stream",
     "text": [
      "True\n"
     ]
    }
   ],
   "source": [
    "#14.isascii() = Returns True if all characters in the string are ascii characters\n",
    "var=\"@\"\n",
    "print(var.isascii())\n"
   ]
  },
  {
   "cell_type": "code",
   "execution_count": 51,
   "id": "d752388b",
   "metadata": {},
   "outputs": [
    {
     "name": "stdout",
     "output_type": "stream",
     "text": [
      "True\n"
     ]
    }
   ],
   "source": [
    "#15.isdecimal() = Returns True if all characters in the string are decimals\n",
    "var=\"567\"\n",
    "print(var.isdecimal())"
   ]
  },
  {
   "cell_type": "code",
   "execution_count": 56,
   "id": "09a101c8",
   "metadata": {},
   "outputs": [
    {
     "name": "stdout",
     "output_type": "stream",
     "text": [
      "True\n"
     ]
    }
   ],
   "source": [
    "#16.isdigit() = Returns True if all characters in the string are digits\n",
    "var=\"567\"\n",
    "print(var.isdigit())"
   ]
  },
  {
   "cell_type": "code",
   "execution_count": 2,
   "id": "585d1b97",
   "metadata": {},
   "outputs": [
    {
     "name": "stdout",
     "output_type": "stream",
     "text": [
      "True\n"
     ]
    }
   ],
   "source": [
    "#17.isidentifier() = Returns True if the string is an identifier identifier=variable\n",
    "var=\"_myVar2\"\n",
    "print(var.isidentifier())"
   ]
  },
  {
   "cell_type": "code",
   "execution_count": 4,
   "id": "2f672008",
   "metadata": {},
   "outputs": [
    {
     "name": "stdout",
     "output_type": "stream",
     "text": [
      "True\n"
     ]
    }
   ],
   "source": [
    "#18.islower() = Returns True if all characters in the string are lower case\n",
    "var=\"hello\"\n",
    "print(var.islower())"
   ]
  },
  {
   "cell_type": "code",
   "execution_count": 44,
   "id": "f3fcba8e",
   "metadata": {},
   "outputs": [
    {
     "name": "stdout",
     "output_type": "stream",
     "text": [
      "True\n"
     ]
    }
   ],
   "source": [
    "#19.isnumeric() = Returns True if all characters in the string are numeric\n",
    "var=\"567\"\n",
    "print(var.isnumeric())"
   ]
  },
  {
   "cell_type": "code",
   "execution_count": 95,
   "id": "c51b9b59",
   "metadata": {
    "scrolled": true
   },
   "outputs": [
    {
     "name": "stdout",
     "output_type": "stream",
     "text": [
      "hello  Hi how are you\n",
      "True\n"
     ]
    }
   ],
   "source": [
    "#20.isprintable() = Returns True if all characters in the string are printable\n",
    "var=\"hello \\x48\\x69 how are you\" #\\n \\t \\b \\f \\r-false         \\\\ \\' \\\" \\ooo \\xhh-true\n",
    "print(var)\n",
    "print(var.isprintable())"
   ]
  },
  {
   "cell_type": "code",
   "execution_count": null,
   "id": "f2a1ef91",
   "metadata": {},
   "outputs": [],
   "source": [
    "# escape characters \n",
    "#\\n=new line\n",
    "#\\t=tab\n",
    "#\\b=backspace\n",
    "#\\f= form feed\n",
    "#\\r=carriage return\n",
    "#\\\\=backslash\n",
    "#\\'=single quote\n",
    "#\\\" = double quote\n",
    "#\\ooo=octal value\n",
    "#\\xhh=hex value\n",
    "print(\"hello \\nhow are you\")\n",
    "print(\"hello \\thow are you\")\n",
    "print(\"hello\\b\\bhow are you\")\n",
    "print(\"hello\\fhow are you\")\n",
    "print(\"hello\\rhow are you\")\n",
    "print(\"hello how \\r are you\")\n",
    "print(\"hello how are yo\\ru\")\n",
    "print(\"hello\\\\how are you\")\n",
    "print(\"hello\\'how are you\")\n",
    "print(\"hello\\\"how are you\")'''\n",
    "print(\"hello \\110\\151 how are you\")\n",
    "print(\"hello \\x48\\x69 how are you\")"
   ]
  },
  {
   "cell_type": "code",
   "execution_count": 101,
   "id": "254f7430",
   "metadata": {},
   "outputs": [
    {
     "name": "stdout",
     "output_type": "stream",
     "text": [
      "True\n"
     ]
    }
   ],
   "source": [
    "#21.isspace() = Returns True if all characters in the string are whitespaces\n",
    "var=\"   \"\n",
    "print(var.isspace())"
   ]
  },
  {
   "cell_type": "code",
   "execution_count": 7,
   "id": "52e038ca",
   "metadata": {},
   "outputs": [
    {
     "name": "stdout",
     "output_type": "stream",
     "text": [
      "True\n"
     ]
    }
   ],
   "source": [
    "#22.istitle() = Returns True if the string follows the rules of a title\n",
    "var=\"Hello How Are\"\n",
    "print(var.istitle())"
   ]
  },
  {
   "cell_type": "code",
   "execution_count": 108,
   "id": "747f91a4",
   "metadata": {},
   "outputs": [
    {
     "name": "stdout",
     "output_type": "stream",
     "text": [
      "True\n"
     ]
    }
   ],
   "source": [
    "#23.isupper() = Returns True if all characters in the string are upper case\n",
    "var=\"HELLO\"\n",
    "print(var.isupper())"
   ]
  },
  {
   "cell_type": "code",
   "execution_count": 9,
   "id": "fc758e57",
   "metadata": {},
   "outputs": [
    {
     "name": "stdout",
     "output_type": "stream",
     "text": [
      "apple@banana@grapes\n"
     ]
    }
   ],
   "source": [
    "#24.join() = Joins the elements of an iterable to the end of the string\n",
    "list1=[\"apple\",\"banana\",\"grapes\"]\n",
    "print(\"@\".join(list1))"
   ]
  },
  {
   "cell_type": "code",
   "execution_count": 11,
   "id": "a6df04d9",
   "metadata": {},
   "outputs": [
    {
     "name": "stdout",
     "output_type": "stream",
     "text": [
      "hello how are you                                 \n"
     ]
    }
   ],
   "source": [
    "#25.ljust() = Returns a left justified version of the string\n",
    "var=\"hello how are you\"\n",
    "print(var.ljust(50))"
   ]
  },
  {
   "cell_type": "code",
   "execution_count": 120,
   "id": "ded70cfb",
   "metadata": {},
   "outputs": [
    {
     "name": "stdout",
     "output_type": "stream",
     "text": [
      "hello how are you\n"
     ]
    }
   ],
   "source": [
    "#26.lower() = Converts a string into lower case\n",
    "var=\"HELLO HOW ARE YOU\"\n",
    "print(var.lower())"
   ]
  },
  {
   "cell_type": "code",
   "execution_count": 12,
   "id": "f3818347",
   "metadata": {},
   "outputs": [
    {
     "name": "stdout",
     "output_type": "stream",
     "text": [
      "    banana  2121112121    \n"
     ]
    }
   ],
   "source": [
    "#27.lstrip() = Returns a left trim version of the string\n",
    "var=\"    banana  \"\n",
    "print(var.lstrip(\" \"))"
   ]
  },
  {
   "cell_type": "code",
   "execution_count": 21,
   "id": "c786e2a4",
   "metadata": {},
   "outputs": [
    {
     "name": "stdout",
     "output_type": "stream",
     "text": [
      "jello jow are  you\n",
      "hslli hiw was  yiu\n"
     ]
    }
   ],
   "source": [
    "#28.maketrans() = Returns a translation table to be used in translations\n",
    "text=\"hello how are  you\"\n",
    "trans=str.maketrans(\"h\",\"j\")\n",
    "print(text.translate(trans))\n",
    "a=\"areo\"\n",
    "b=\"wasi\"\n",
    "trans1=str.maketrans(a,b)\n",
    "print(text.translate(trans1))"
   ]
  },
  {
   "cell_type": "code",
   "execution_count": 22,
   "id": "e164fbc5",
   "metadata": {},
   "outputs": [
    {
     "name": "stdout",
     "output_type": "stream",
     "text": [
      "('hello ', 'how', ' are  you')\n"
     ]
    }
   ],
   "source": [
    "#29.partition() = Returns a tuple where the string is parted into three parts\n",
    "text=\"hello how are  you\"\n",
    "print(text.partition('how'))"
   ]
  },
  {
   "cell_type": "code",
   "execution_count": 24,
   "id": "1587de96",
   "metadata": {},
   "outputs": [
    {
     "name": "stdout",
     "output_type": "stream",
     "text": [
      "hi hi hi how are  you\n",
      "hi hi hello how are  you\n"
     ]
    }
   ],
   "source": [
    "#30.replace() = Returns a string where a specified value is replaced with a specified value\n",
    "text=\"hello hello hello how are  you\"\n",
    "print(text.replace(\"hello\",'hi'))\n",
    "print(text.replace(\"hello\",'hi',2))"
   ]
  },
  {
   "cell_type": "code",
   "execution_count": 29,
   "id": "7dc90328",
   "metadata": {},
   "outputs": [
    {
     "name": "stdout",
     "output_type": "stream",
     "text": [
      "31\n"
     ]
    }
   ],
   "source": [
    "#31.rfind()=Searches the string for a specified value and returns the last position of where it was found\n",
    "text=\"are hello hello hello how are you\"\n",
    "print(text.rfind(\"o\"))"
   ]
  },
  {
   "cell_type": "code",
   "execution_count": 31,
   "id": "55c4b575",
   "metadata": {},
   "outputs": [
    {
     "name": "stdout",
     "output_type": "stream",
     "text": [
      "31\n"
     ]
    }
   ],
   "source": [
    "#32.rindex() = Searches the string for a specified value and returns the last position of where it was found\n",
    "text=\"are hello hello hello how are you\"\n",
    "print(text.rindex(\"o\"))"
   ]
  },
  {
   "cell_type": "code",
   "execution_count": 119,
   "id": "a0482b27",
   "metadata": {},
   "outputs": [
    {
     "name": "stdout",
     "output_type": "stream",
     "text": [
      "xyz                                  hello how are you\n"
     ]
    }
   ],
   "source": [
    "#33.rjust() = Returns a right justified version of the string\n",
    "var=\"hello how are you\"\n",
    "print(\"xyz\",var.rjust(50))"
   ]
  },
  {
   "cell_type": "code",
   "execution_count": 34,
   "id": "922f3e97",
   "metadata": {},
   "outputs": [
    {
     "name": "stdout",
     "output_type": "stream",
     "text": [
      "('are hello how hello ', 'hello', ' how are you')\n"
     ]
    }
   ],
   "source": [
    "#34.rpartition() = Returns a tuple where the string is parted into three parts\n",
    "text=\"are hello how hello hello how are you\"\n",
    "print(text.rpartition(\"hello\"))"
   ]
  },
  {
   "cell_type": "code",
   "execution_count": 152,
   "id": "a472ce34",
   "metadata": {},
   "outputs": [
    {
     "name": "stdout",
     "output_type": "stream",
     "text": [
      "['are', 'hello', 'hello', 'hello', 'how', 'are', 'you']\n",
      "['abb', 'bb', 'bbb', 'ab']\n"
     ]
    }
   ],
   "source": [
    "#35.rsplit() = Splits the string at the specified separator, and returns a list\n",
    "text=\"are hello hello hello how are you\"\n",
    "print(text.split(\" \"))\n",
    "text=\"abbcbbcbbbcab\"\n",
    "print(text.rsplit('c'))"
   ]
  },
  {
   "cell_type": "code",
   "execution_count": 16,
   "id": "6ef0d4b2",
   "metadata": {},
   "outputs": [
    {
     "name": "stdout",
     "output_type": "stream",
     "text": [
      "122121211banana\n"
     ]
    }
   ],
   "source": [
    "#36.rstrip() = Returns a right trim version of the string\n",
    "var=\"122121211banana2121112121\"\n",
    "print(var.rstrip(\"12\"))"
   ]
  },
  {
   "cell_type": "code",
   "execution_count": 36,
   "id": "c927ec35",
   "metadata": {},
   "outputs": [
    {
     "name": "stdout",
     "output_type": "stream",
     "text": [
      "['are hell', ' hell', ' hell', ' h', 'w are y', 'u']\n"
     ]
    }
   ],
   "source": [
    "#37.split() = Splits the string at the specified separator, and returns a list\n",
    "text=\"are hello hello hello how are you\"\n",
    "print(text.split('o'))"
   ]
  },
  {
   "cell_type": "code",
   "execution_count": 162,
   "id": "1c209a68",
   "metadata": {},
   "outputs": [
    {
     "name": "stdout",
     "output_type": "stream",
     "text": [
      "['are hello hello ', 'hello how', ' are you']\n"
     ]
    }
   ],
   "source": [
    "#38.splitlines()=Splits the string at line breaks and returns a list\n",
    "text=\"are hello hello \\nhello how\\n are you\"  #True for include \\n\n",
    "print(text.splitlines())"
   ]
  },
  {
   "cell_type": "code",
   "execution_count": 39,
   "id": "970b9ad7",
   "metadata": {},
   "outputs": [
    {
     "name": "stdout",
     "output_type": "stream",
     "text": [
      "True\n",
      "True\n"
     ]
    }
   ],
   "source": [
    "#39.startswith() = Returns true if the string starts with the specified value\n",
    "text=\"are hello hello hello how are you.\"\n",
    "print(text.startswith(\"a\"))\n",
    "print(text.endswith(\".\"))"
   ]
  },
  {
   "cell_type": "code",
   "execution_count": 15,
   "id": "4c228056",
   "metadata": {},
   "outputs": [
    {
     "name": "stdout",
     "output_type": "stream",
     "text": [
      "banana\n",
      "banana   \n",
      "     banana\n"
     ]
    }
   ],
   "source": [
    "#40.strip() = Returns a trimmed version of the string\n",
    "var=\"     banana   \"\n",
    "print(var.strip(\" \"))\n",
    "print(var.lstrip(\" \"))\n",
    "print(var.rstrip(\" \"))"
   ]
  },
  {
   "cell_type": "code",
   "execution_count": 172,
   "id": "7076b0a4",
   "metadata": {},
   "outputs": [
    {
     "name": "stdout",
     "output_type": "stream",
     "text": [
      "hEllOOO woRLd\n"
     ]
    }
   ],
   "source": [
    "#41.swapcase()= Swaps cases, lower case becomes upper case and vice versa\n",
    "var=\"HeLLooo WOrlD\"\n",
    "print(var.swapcase())"
   ]
  },
  {
   "cell_type": "code",
   "execution_count": 173,
   "id": "01262d65",
   "metadata": {},
   "outputs": [
    {
     "name": "stdout",
     "output_type": "stream",
     "text": [
      "Hello World How Are You\n"
     ]
    }
   ],
   "source": [
    "#42.title() = Converts the first character of each word to upper case\n",
    "var=\"hello world how are you\"\n",
    "print(var.title())"
   ]
  },
  {
   "cell_type": "code",
   "execution_count": 44,
   "id": "478fe4b2",
   "metadata": {},
   "outputs": [
    {
     "name": "stdout",
     "output_type": "stream",
     "text": [
      "dre you ok\n",
      "a\n",
      "97\n"
     ]
    }
   ],
   "source": [
    "#43.translate() = Returns a translated string\n",
    "dict1={97:100}   #97 a 98 b 99 c\n",
    "print(\"are you ok\".translate(dict1))\n",
    "print(chr(97))\n",
    "print(ord('a'))"
   ]
  },
  {
   "cell_type": "code",
   "execution_count": 186,
   "id": "b453e6a5",
   "metadata": {},
   "outputs": [
    {
     "name": "stdout",
     "output_type": "stream",
     "text": [
      "HELLO WORLD\n"
     ]
    }
   ],
   "source": [
    "#44.upper() = Converts a string into upper case\n",
    "var=\"hello world\"\n",
    "print(var.upper())"
   ]
  },
  {
   "cell_type": "code",
   "execution_count": 191,
   "id": "6b022ef8",
   "metadata": {},
   "outputs": [
    {
     "name": "stdout",
     "output_type": "stream",
     "text": [
      "0000030\n",
      "00hello hi\n"
     ]
    }
   ],
   "source": [
    "#45.zfill() = Fills the string with a specified number of 0 values at the beginning\n",
    "a=\"30\"\n",
    "b=\"hello hi\"\n",
    "print(a.zfill(7))\n",
    "print(b.zfill(10))"
   ]
  },
  {
   "cell_type": "code",
   "execution_count": null,
   "id": "13f13430",
   "metadata": {},
   "outputs": [],
   "source": []
  }
 ],
 "metadata": {
  "kernelspec": {
   "display_name": "Python 3 (ipykernel)",
   "language": "python",
   "name": "python3"
  },
  "language_info": {
   "codemirror_mode": {
    "name": "ipython",
    "version": 3
   },
   "file_extension": ".py",
   "mimetype": "text/x-python",
   "name": "python",
   "nbconvert_exporter": "python",
   "pygments_lexer": "ipython3",
   "version": "3.11.5"
  }
 },
 "nbformat": 4,
 "nbformat_minor": 5
}
